{
    "metadata": {
        "kernelspec": {
            "name": "SQL",
            "display_name": "SQL",
            "language": "sql"
        },
        "language_info": {
            "name": "sql",
            "version": ""
        }
    },
    "nbformat_minor": 2,
    "nbformat": 4,
    "cells": [
        {
            "cell_type": "markdown",
            "source": [
                "# SQL Database Schema Report\r\n",
                "\r\n",
                "## Parameters\r\n",
                "* SQLInstance\r\n",
                "* DBName\r\n",
                "\r\n",
                "## Data sets\r\n",
                "\r\n",
                "### Parent Table\r\n",
                ""
            ],
            "metadata": {
                "azdata_cell_guid": "4fd26ac4-fed0-4fae-910a-1e41a8f818a5"
            }
        },
        {
            "cell_type": "code",
            "source": [
                "SELECT [t].Object_id\r\n",
                "     , SCHEMA_NAME([t].schema_id) AS schema_name\r\n",
                "     , [t].[name] AS [table_name]\r\n",
                "     , [t].[create_date] AS [created]\r\n",
                "     , [t].[modify_date] AS [last_modified]\r\n",
                "     , [p].[rows] AS [num_rows]\r\n",
                "     , [ep].value AS [comments]\r\n",
                "FROM [sys].[tables] AS [t]\r\n",
                "     LEFT JOIN [sys].[extended_properties] AS [ep]\r\n",
                "     ON [t].object_id = [ep].[major_id]\r\n",
                "        AND [ep].[name] = 'MS_Description'\r\n",
                "        AND [ep].[minor_id] = 0\r\n",
                "        AND [ep].[class_desc] = 'OBJECT_OR_COLUMN'\r\n",
                "outer apply\r\n",
                "     (\r\n",
                "         SELECT [pt].object_id\r\n",
                "              , SUM([pt].[rows]) AS [rows]\r\n",
                "         FROM [sys].[partitions] AS [pt]\r\n",
                "              where [pt].[object_id] = [t].[object_id]\r\n",
                "\t\t\t  and [pt].index_id = (SELECT MIN(index_id) FROM [sys].[partitions] WHERE [object_id] = [t].OBJECT_ID)\r\n",
                "         GROUP BY [pt].object_id\r\n",
                "     ) AS [p]\r\n",
                "WHERE OBJECTPROPERTY([t].OBJECT_ID, 'IsUserTable') = 1 "
            ],
            "metadata": {
                "azdata_cell_guid": "efa09c87-88fd-4a83-b05e-abd1f4f5bc1a"
            },
            "outputs": [],
            "execution_count": 0
        },
        {
            "cell_type": "markdown",
            "source": [
                "M Script  to clean up result set"
            ],
            "metadata": {
                "azdata_cell_guid": "c0256f55-faee-4bdd-86bf-a739cae00621"
            }
        },
        {
            "cell_type": "code",
            "source": [
                "let\r\n",
                "    Source = Sql.Database(SQLInstance, DBName, [Query=\"SELECT [t].Object_id#(lf)     , SCHEMA_NAME([t].schema_id) AS schema_name#(lf)     , [t].[name] AS [table_name]#(lf)     , [t].[create_date] AS [created]#(lf)     , [t].[modify_date] AS [last_modified]#(lf)     , [p].[rows] AS [num_rows]#(lf)     , [ep].value AS [comments]#(lf)FROM [sys].[tables] AS [t]#(lf)     LEFT JOIN [sys].[extended_properties] AS [ep]#(lf)     ON [t].object_id = [ep].[major_id]#(lf)        AND [ep].[name] = 'MS_Description'#(lf)        AND [ep].[minor_id] = 0#(lf)        AND [ep].[class_desc] = 'OBJECT_OR_COLUMN'#(lf)outer apply#(lf)     (#(lf)         SELECT [pt].object_id#(lf)              , SUM([pt].[rows]) AS [rows]#(lf)         FROM [sys].[partitions] AS [pt]#(lf)              where [pt].[object_id] = [t].[object_id]#(lf)#(tab)#(tab)#(tab)  and [pt].index_id = (SELECT MIN(index_id) FROM [sys].[partitions] WHERE [object_id] = [t].OBJECT_ID)#(lf)         GROUP BY [pt].object_id#(lf)     ) AS [p]#(lf)WHERE OBJECTPROPERTY([t].OBJECT_ID, 'IsUserTable') = 1 \", CreateNavigationProperties=false]),\r\n",
                "    #\"Duplicated Column\" = Table.DuplicateColumn(Source, \"table_name\", \"table_name - Copy\"),\r\n",
                "    #\"Split Column by Delimiter\" = Table.SplitColumn(#\"Duplicated Column\", \"table_name - Copy\", Splitter.SplitTextByEachDelimiter({\"_\"}, QuoteStyle.Csv, true), {\"table_name - Copy.1\", \"table_name - Copy.2\"}),\r\n",
                "    #\"Removed Columns\" = Table.RemoveColumns(#\"Split Column by Delimiter\",{\"table_name - Copy.1\"}),\r\n",
                "    #\"Renamed Columns\" = Table.RenameColumns(#\"Removed Columns\",{{\"table_name - Copy.2\", \"Table Suffix\"}, {\"num_rows\", \"Parent Rows\"}, {\"table_name\", \"Parent Table\"}, {\"schema_name\", \"Parent Schema\"}}),\r\n",
                "    #\"Sorted Rows\" = Table.Sort(#\"Renamed Columns\",{{\"Parent Table\", Order.Ascending}}),\r\n",
                "    #\"Added Custom\" = Table.AddColumn(#\"Sorted Rows\", \"Parent Table FQ\", each \"[\" & [Parent Schema] & \"].[\" & [Parent Table] & \"]\")\r\n",
                "in\r\n",
                "    #\"Added Custom\""
            ],
            "metadata": {
                "azdata_cell_guid": "2600931f-9d88-47ea-a6d7-45c09725d75f"
            },
            "outputs": [],
            "execution_count": 0
        },
        {
            "cell_type": "markdown",
            "source": [
                "### Child Table"
            ],
            "metadata": {
                "azdata_cell_guid": "d2a115e5-779e-4604-b450-056828aed33c"
            }
        },
        {
            "cell_type": "code",
            "source": [
                "SELECT [t].Object_id\r\n",
                "     , SCHEMA_NAME([t].schema_id) AS schema_name\r\n",
                "     , [t].[name] AS [table_name]\r\n",
                "     , [p].[rows] AS [num_rows]\r\n",
                "FROM [sys].[tables] AS [t]\r\n",
                "outer apply\r\n",
                "     (\r\n",
                "         SELECT [pt].object_id\r\n",
                "              , SUM([pt].[rows]) AS [rows]\r\n",
                "         FROM [sys].[partitions] AS [pt]\r\n",
                "              where [pt].[object_id] = [t].[object_id]\r\n",
                "\t\t\t  and [pt].index_id = (SELECT MIN(index_id) FROM [sys].[partitions] WHERE [object_id] = [t].OBJECT_ID)\r\n",
                "         GROUP BY [pt].object_id\r\n",
                "     ) AS [p]\r\n",
                "WHERE OBJECTPROPERTY([t].OBJECT_ID, 'IsUserTable') = 1 "
            ],
            "metadata": {
                "azdata_cell_guid": "ed2a8f63-9be5-4fda-bf54-379b1033dbf1"
            },
            "outputs": [],
            "execution_count": 0
        },
        {
            "cell_type": "markdown",
            "source": [
                "M script to do cleanup"
            ],
            "metadata": {
                "azdata_cell_guid": "9247139c-023e-446f-8694-22ea93c88ed6"
            }
        },
        {
            "cell_type": "code",
            "source": [
                "let\r\n",
                "    Source = Sql.Database(SQLInstance, DBName, [Query=\"SELECT [t].Object_id#(lf)     , SCHEMA_NAME([t].schema_id) AS schema_name#(lf)     , [t].[name] AS [table_name]#(lf)     , [p].[rows] AS [num_rows]#(lf)FROM [sys].[tables] AS [t]#(lf)outer apply#(lf)     (#(lf)         SELECT [pt].object_id#(lf)              , SUM([pt].[rows]) AS [rows]#(lf)         FROM [sys].[partitions] AS [pt]#(lf)              where [pt].[object_id] = [t].[object_id]#(lf)#(tab)#(tab)#(tab)  and [pt].index_id = (SELECT MIN(index_id) FROM [sys].[partitions] WHERE [object_id] = [t].OBJECT_ID)#(lf)         GROUP BY [pt].object_id#(lf)     ) AS [p]#(lf)WHERE OBJECTPROPERTY([t].OBJECT_ID, 'IsUserTable') = 1 \", CreateNavigationProperties=false]),\r\n",
                "    #\"Renamed Columns\" = Table.RenameColumns(Source,{{\"schema_name\", \"Child Schema\"}, {\"table_name\", \"Child Table\"}, {\"num_rows\", \"Child Rows\"}}),\r\n",
                "    #\"Added Custom\" = Table.AddColumn(#\"Renamed Columns\", \"Child Table FQ\", each \"[\" & [Child Schema] & \"].[\" & [Child Table] & \"]\")\r\n",
                "in\r\n",
                "    #\"Added Custom\""
            ],
            "metadata": {
                "azdata_cell_guid": "9f731346-9a45-469b-8985-23a4e39211ff"
            },
            "outputs": [],
            "execution_count": 0
        },
        {
            "cell_type": "markdown",
            "source": [
                "More detailed table data set"
            ],
            "metadata": {
                "azdata_cell_guid": "cbb42cf8-00cf-4ebc-b596-1803706a79de"
            }
        },
        {
            "cell_type": "code",
            "source": [
                "SELECT @@SERVERNAME AS [Server Name]\r\n",
                "     , DB_NAME() AS [Database Name]\r\n",
                "     , SCHEMA_NAME(schema_id) AS [Schema Name]\r\n",
                "     , [T].[name] AS [Table Name]\r\n",
                "     , SUM([Partitions].[rows]) AS [RowCount]\r\n",
                "\t , MAX(I.[Table Type]) as [Table Type]\r\n",
                "\t , MAX(I.[Index Count]) as [IndexCount]\r\n",
                "     , CAST(CONVERT(VARCHAR, current_timestamp, 112) AS INT) AS [SnapshotDateKey]\r\n",
                "     , CAST(replace(LEFT(CONVERT(VARCHAR, current_timestamp, 14), 8), ':', '') AS INT) AS [SnapshotTimeKey]\r\n",
                "FROM [sys].[tables] AS [T]\r\n",
                "     JOIN [sys].[partitions] AS [Partitions]\r\n",
                "     ON [T].[object_id] = [Partitions].[object_id]\r\n",
                "        AND [Partitions].[index_id] IN(0, 1)\r\n",
                "Left outer join (select object_id\r\n",
                "\t, MAX(case [type] when 0 then 'Heap'\r\n",
                "\t\t\twhen 1 then 'Clustered' else null end) as [Table Type] \r\n",
                "\t, sum(case when [type] <> 0 then 1 else 0 end) as [Index Count]\r\n",
                "from sys.indexes\r\n",
                "group by object_id ) as I\r\n",
                "on T.[object_id] = I.[object_id]\r\n",
                "WHERE [T].[is_ms_shipped] = 0\r\n",
                "GROUP BY SCHEMA_NAME(schema_id)\r\n",
                "       , [T].[name];"
            ],
            "metadata": {
                "azdata_cell_guid": "49d969a5-4d13-4949-86b8-4d6808b963d1"
            },
            "outputs": [],
            "execution_count": 0
        },
        {
            "cell_type": "markdown",
            "source": [
                "## DB Columns\r\n",
                ""
            ],
            "metadata": {
                "azdata_cell_guid": "0959c3eb-ba11-4e80-8a8b-d7712419409a"
            }
        },
        {
            "cell_type": "code",
            "source": [
                "SELECT OBJECT_NAME([sc].Object_id) AS [Table Name]\r\n",
                "     , [sc].Object_id\r\n",
                "     , [sc].[column_id] AS [Seq]\r\n",
                "     , [sc].[name] AS [Column Name]\r\n",
                "\t , CASE WHEN [sc].[column_id] = 1 THEN '' ELSE ',' END +'[' + [sc].[name] +'] ' \r\n",
                "\t\t+   TYPE_NAME([sc].[system_type_id]) \r\n",
                "\t\t+ CASE WHEN _.[format_len] = 0 THEN ''\r\n",
                "\t\t\t\t\tELSE '(' + case when _.[Length] = -1 then 'MAX'\r\n",
                "\t\t\t\t\t\twhen _.[Prec] = '     ' \r\n",
                "\t\t\t\t\t\tthen cast(case when TYPE_NAME([sc].[system_type_id]) in (N'NCHAR', N'NVARCHAR') then _.[Length]/2 else _.[Length] end as varchar)\r\n",
                "\t\t\t\t\t\telse rtrim( _.[Prec] ) + ', ' + rtrim(_.[Scale])\r\n",
                "\t\t\t\t\t\tend\r\n",
                "\t\t\t\t\t + ')' END\r\n",
                "\t+ CASE [sc].[is_nullable] WHEN 0\r\n",
                "\t\tTHEN ' NOT NULL' \r\n",
                "\t\tELSE ' NULL' END AS [ColDef]\r\n",
                "     , TYPE_NAME([sc].[user_type_id]) AS [User Type Name]\r\n",
                "     , TYPE_NAME([sc].[system_type_id]) AS [Type Name]\r\n",
                "     , CASE\r\n",
                "           WHEN TYPE_NAME([sc].[system_type_id]) IN (N'NCHAR', N'NVARCHAR') AND [_].[Length] <> -1\r\n",
                "           THEN [_].[Length] / 2\r\n",
                "           ELSE [_].[Length]\r\n",
                "       END AS [Length]\r\n",
                "     , [_].[Prec]\r\n",
                "     , [_].[Scale]\r\n",
                "     , TYPE_NAME([sc].[system_type_id])\r\n",
                "       + CASE\r\n",
                "             WHEN [_].[format_len] = 0\r\n",
                "             THEN ''\r\n",
                "             ELSE '('\r\n",
                "                  + CASE WHEN [_].[Length] = -1 THEN 'MAX'\r\n",
                "                        WHEN [_].[Prec] = '     '\r\n",
                "                        THEN CAST(CASE\r\n",
                "                                      WHEN TYPE_NAME([sc].[system_type_id]) IN(N'NCHAR', N'NVARCHAR')\r\n",
                "                                      THEN [_].[Length] / 2\r\n",
                "                                      ELSE [_].[Length]\r\n",
                "                                  END AS VARCHAR)\r\n",
                "                        ELSE RTRIM([_].[Prec]) + ', ' + RTRIM([_].[Scale])\r\n",
                "                    END\r\n",
                "                  + ')'\r\n",
                "         END AS [Data Type]\r\n",
                "     , [sc].[is_nullable] AS [Is Nullable]\r\n",
                "     , [sc].[is_identity] AS [Is Identity]\r\n",
                "     , [sc].[is_computed] AS [Is Computed]\r\n",
                "     , [sc].[is_ansi_padded] AS [Is ANSI Padded]\r\n",
                "     , ISNULL(OBJECT_NAME([sc].[default_object_id]), '') AS [Default Name]\r\n",
                "     , ISNULL(\r\n",
                "       (\r\n",
                "           SELECT TOP 1 SUBSTRING(text, 2, LEN([text]) - 2)\r\n",
                "           FROM [syscomments](NOLOCK)\r\n",
                "           WHERE [id] = [sc].[default_object_id]\r\n",
                "       ), '') AS [DefaultValue]\r\n",
                "     , [ep].value AS [comments]\r\n",
                "FROM [sys].[all_columns](NOLOCK) AS [SC]\r\n",
                "     LEFT JOIN [sys].[extended_properties] AS [ep]\r\n",
                "     ON [sc].object_id = [ep].[major_id]\r\n",
                "        AND [ep].[name] = 'MS_Description'\r\n",
                "        AND [ep].[minor_id] = [sc].[column_id]\r\n",
                "        AND [ep].[class_desc] = 'OBJECT_OR_COLUMN'\r\n",
                "     OUTER APPLY\r\n",
                "     (\r\n",
                "         SELECT CONVERT(INT, [sc].[max_length]) AS [Length]\r\n",
                "              , CASE\r\n",
                "                    WHEN CHARINDEX(TYPE_NAME([sc].[system_type_id]) + ',', N'tinyint,smallint,decimal,int,bigint,real,money,float,numeric,smallmoney,date,time,datetime2,datetimeoffset,') > 0\r\n",
                "                    THEN CONVERT(CHAR(5), COLUMNPROPERTY(object_id, [sc].[name], 'precision'))\r\n",
                "                    ELSE '     '\r\n",
                "                END AS [Prec]\r\n",
                "              , CASE\r\n",
                "                    WHEN CHARINDEX(TYPE_NAME([system_type_id]) + ',', N'tinyint,smallint,decimal,int,bigint,real,money,numeric,smallmoney,date,time,datetime2,datetimeoffset,') > 0\r\n",
                "                    THEN CONVERT(CHAR(5), OdbcScale( [sc].[system_type_id], [sc].[scale]) )\r\n",
                "                    ELSE '     '\r\n",
                "                END AS [Scale]\r\n",
                "              , CASE\r\n",
                "                    WHEN CHARINDEX(TYPE_NAME([sc].[system_type_id]), N'decimal,real,numeric,datetimeoffset,char,varchar,nchar,nvarchar,varbinary') > 0\r\n",
                "                    THEN 1\r\n",
                "                    ELSE 0\r\n",
                "                END AS [format_len]\r\n",
                "     ) AS [_]\r\n",
                "WHERE OBJECTPROPERTY([sc].OBJECT_ID, 'IsUserTable') = 1"
            ],
            "metadata": {
                "azdata_cell_guid": "ce2cddc2-0a88-4a38-80f7-3958c254400d"
            },
            "outputs": [],
            "execution_count": 0
        },
        {
            "cell_type": "markdown",
            "source": [
                "### Relationships\r\n",
                "\r\n",
                ""
            ],
            "metadata": {
                "azdata_cell_guid": "0c59d462-d348-47dd-abbe-59864087b2bb"
            }
        },
        {
            "cell_type": "code",
            "source": [
                "SELECT [CC].[parent_object_id] AS [Parent_object_id]\r\n",
                "\t\t , [CC].[referenced_object_id]\r\n",
                "\t\t , OBJECT_NAME([cc].constraint_object_id) AS ConstraintName\r\n",
                "\t\t , STUFF(\r\n",
                "\t\t   (\r\n",
                "\t\t\t   SELECT ', ' + QUOTENAME(OBJECT_NAME([C].[object_id])) + '.'+  QUOTENAME([C].[name]) + ' = ' + QUOTENAME(OBJECT_NAME([A].[referenced_object_id]))+ '.' +QUOTENAME([P].[name])\r\n",
                "\t\t\t   FROM [sys].[foreign_key_columns] AS [A]\r\n",
                "\t\t\t\t\tJOIN [sys].[columns] AS [C]\r\n",
                "\t\t\t\t\tON [C].[object_id] = [A].[parent_object_id]\r\n",
                "\t\t\t\t\t   AND [C].[column_id] = [A].[parent_column_id]\r\n",
                "\t\t\t\t\tJOIN [sys].[columns] AS [P]\r\n",
                "\t\t\t\t\tON [P].[object_id] = [A].[referenced_object_id]\r\n",
                "\t\t\t\t\t   AND [P].[column_id] = [A].[referenced_column_id]\r\n",
                "\t\t\t   WHERE [CC].[parent_object_id] = [A].[parent_object_id]\r\n",
                "\t\t\t\t\t AND [CC].[referenced_object_id] = [A].[referenced_object_id]\r\n",
                "\t\t\t\t\t AND [CC].constraint_object_id = [A].constraint_object_id\r\n",
                "\t\t\t   FOR XML PATH('')\r\n",
                "\t\t   ), 1, 2, '') AS [ConstraintColumns]\r\n",
                "\tFROM [sys].[foreign_key_columns] AS [CC]\r\n",
                "\tGROUP BY [CC].[parent_object_id]\r\n",
                "\t\t   , [CC].[referenced_object_id]\r\n",
                "\t\t   ,[cc].constraint_object_id"
            ],
            "metadata": {
                "azdata_cell_guid": "33eaaaad-21c8-49af-bac3-1951b70ed431"
            },
            "outputs": [],
            "execution_count": 0
        },
        {
            "cell_type": "markdown",
            "source": [
                "### Model relationships\r\n",
                "\r\n",
                "> DB Columns(Object_id) <- Parent Table(Object_id)\r\n",
                "\r\n",
                "> Relationships(Parent_Object_id) <- Parent Table(Object_id)\r\n",
                "\r\n",
                "> Relationships(References_object_id) <- Child Table(Object_id)"
            ],
            "metadata": {
                "azdata_cell_guid": "91905695-34b9-478b-9026-8233090066c7"
            }
        }
    ]
}